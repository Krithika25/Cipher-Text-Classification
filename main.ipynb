{
  "cells": [
    {
      "cell_type": "markdown",
      "metadata": {
        "id": "ROpFZ4kTBU10"
      },
      "source": [
        "### Read training, dev and unlabeled test data"
      ]
    },
    {
      "cell_type": "markdown",
      "metadata": {
        "id": "FdOuQUsHBU16"
      },
      "source": [
        "The following provides a starting code (Python 3) of how to read the labeled training and dev cipher text, and unlabeled test cipher text, into lists."
      ]
    },
    {
      "cell_type": "code",
      "execution_count": 2,
      "metadata": {
        "id": "Anp46fYmBU17"
      },
      "outputs": [],
      "source": [
        "train, dev, test = [], [], []"
      ]
    },
    {
      "cell_type": "code",
      "execution_count": 3,
      "metadata": {
        "colab": {
          "base_uri": "https://localhost:8080/"
        },
        "id": "VTzw6icxBU18",
        "outputId": "f6c03de7-8e17-468e-dbe0-52530eddcb1f"
      },
      "outputs": [
        {
          "name": "stdout",
          "output_type": "stream",
          "text": [
            "16220\n",
            "[[0, 'lkêcê yoúc cêêö y#êjl lw mówám Újám j Úêê# ütlk Úol lkêú z#ê ctöé8ú ówl xoóóú éê#xw#öê#c .'], [0, '6êcétlê jolêot8 zc éê#xw#öjóáê , tl zc j #jlkê# 8tcl8êcc jöÚ8ê 6wüó lkê öt668ê wx lkê #wj6 , ükê#ê lkê lkêöjltá t#wótêc j#ê lww wÚ2twoc jó6 lkê cê+oj8 éw8tltác lww cöoy .'], [0, 'tx lktc kw8t6jú öw2tê tc coééwcê6 lw Úê j ytxl , cwöêÚw6ú oóü#jééê6 tl êj#8ú , lwwm wol j88 lkê yww6 cloxx , jó6 8êxl Úêktó6 lkê á#jé ( 8tlê#j88ú ) .']]\n"
          ]
        }
      ],
      "source": [
        "for x in open('./train_enc.tsv', encoding='utf-8'):\n",
        "    x = x.rstrip('\\n\\r').split('\\t')\n",
        "    # x[0] will be the label (0 or 1), and x[1] will be the ciphertext sentence.\n",
        "    x[0] = int(x[0]) \n",
        "    train.append(x)\n",
        "print (len(train))\n",
        "print (train[:3])"
      ]
    },
    {
      "cell_type": "code",
      "execution_count": 4,
      "metadata": {
        "colab": {
          "base_uri": "https://localhost:8080/"
        },
        "id": "Ry0LLHq1BU19",
        "outputId": "e9cff6dc-7350-4673-ac9f-d3ad9b85e8eb"
      },
      "outputs": [
        {
          "name": "stdout",
          "output_type": "stream",
          "text": [
            "2027\n",
            "[[1, 'ów8jó Ú#j2ê8ú l#êj6c ükê#ê xêü jöê#tájó xt8öc 6j#ê lw 6ê82ê 77 tólw lkê üw#86 wx jöÚt2j8êóáê jó6 jöÚtyotlú <<<'], [0, 'ê2êó öo#ékú zc ê+éê#l áwötá ltötóy jó6 xjöê6 ákj#tcöj áj ózl #êcáoê lktc êxxw#l .'], [1, 'üt88 jcco#ê68ú #jóm jc wóê wx lkê á8ê2ê#êcl , öwcl 6êáêélt2ê8ú jöoctóy áwöê6têc wx lkê úêj# .']]\n"
          ]
        }
      ],
      "source": [
        "for x in open('./dev_enc.tsv', encoding='utf-8'):\n",
        "    x = x.rstrip('\\n\\r').split('\\t')\n",
        "    # x[0] will be the label (0 or 1), and x[1] will be the ciphertext sentence.\n",
        "    x[0] = int(x[0]) \n",
        "    dev.append(x)\n",
        "print (len(dev))\n",
        "print (dev[:3])"
      ]
    },
    {
      "cell_type": "markdown",
      "metadata": {
        "id": "XxbPWtNgBU1-"
      },
      "source": [
        "#### Different from 'train' and 'dev' that are both list of tuples, 'test' will be just a list."
      ]
    },
    {
      "cell_type": "code",
      "execution_count": 5,
      "metadata": {
        "colab": {
          "base_uri": "https://localhost:8080/"
        },
        "id": "-tyKWyANBU1-",
        "outputId": "5390527d-efdc-4f6b-fc3b-6062a32c5cc1"
      },
      "outputs": [
        {
          "name": "stdout",
          "output_type": "stream",
          "text": [
            "2028\n",
            "['j 6t6jáltá jó6 6o88 6wáoöêólj#ú y8w#txútóy cwxlüj#ê jój#ákú .', 'ówlktóy cltámc , #êj88ú , ê+áêél j 8tóyê#tóy á#êêétóêcc wóê xêê8c x#wö Úêtóy 6#jyyê6 lk#woyk j cj6 , cw#6t6 oót2ê#cê wx yoóc , 6#oyc , j2j#táê jó6 6jöjyê6 6#êjöc .', 'öo#ékú jó6 üt8cwó jáloj88ú öjmê j é#êllú yww6 lêjö <<< Úol lkê é#wvêál co##woó6tóy lkêö tc 6tcl#êcctóy8ú #wlê .']\n"
          ]
        }
      ],
      "source": [
        "for x in open('./test_enc_unlabeled.tsv', encoding='utf-8'):\n",
        "    x = x.rstrip('\\n\\r')\n",
        "    test.append(x)\n",
        "print (len(test))\n",
        "print (test[:3])"
      ]
    },
    {
      "cell_type": "markdown",
      "metadata": {
        "id": "Z7R7P55oBU1_"
      },
      "source": [
        "#### You can split every sentence into lists of words by white spaces."
      ]
    },
    {
      "cell_type": "code",
      "execution_count": 6,
      "metadata": {
        "id": "aIRCFJe2BU1_"
      },
      "outputs": [],
      "source": [
        "train_split = [[x[0], x[1].split(' ')] for x in train]\n",
        "dev_split = [[x[0], x[1].split(' ')] for x in dev]\n",
        "test_split = [[x.split(' ')] for x in test]"
      ]
    },
    {
      "cell_type": "markdown",
      "metadata": {
        "id": "ADeEhjRRBU2A"
      },
      "source": [
        "### Main Code Body"
      ]
    },
    {
      "cell_type": "markdown",
      "metadata": {
        "id": "XpZhCt_6BU2A"
      },
      "source": [
        "You may choose to experiment with different methods using your program. However, you need to embed the training and inference processes at here. We will use your prediction on the unlabeled test data to grade, while checking this part to understand how your method has produced the predictions."
      ]
    },
    {
      "cell_type": "code",
      "execution_count": 7,
      "metadata": {
        "id": "7FPrVI5CBU2A"
      },
      "outputs": [],
      "source": [
        "# Eventually, results need to be a list of 2028 0 or 1's\n",
        "results = []"
      ]
    },
    {
      "cell_type": "markdown",
      "metadata": {
        "id": "gJsCrzglv8eq"
      },
      "source": [
        "# Python Modules"
      ]
    },
    {
      "cell_type": "code",
      "execution_count": 8,
      "metadata": {
        "id": "LF0gnH2fbdvA"
      },
      "outputs": [],
      "source": [
        "from tensorflow import keras\n",
        "from tensorflow.keras import layers\n",
        "import tensorflow as tf\n",
        "from keras.preprocessing import sequence\n",
        "from keras.layers import Bidirectional, LSTM, Dense, Embedding, GRU, Dropout, Attention\n",
        "from keras import Sequential\n",
        "import pandas as pd\n",
        "import numpy as np\n",
        "from collections import Counter"
      ]
    },
    {
      "cell_type": "markdown",
      "metadata": {
        "id": "gXPVZrfywAZI"
      },
      "source": [
        "# Model"
      ]
    },
    {
      "cell_type": "code",
      "execution_count": 9,
      "metadata": {
        "id": "Ev1QPebvb3Va"
      },
      "outputs": [],
      "source": [
        "# Transformer Model\n",
        "class Transformer(layers.Layer):\n",
        "    def __init__(self, n_heads, hidden_dim, embed_size, vocab_len, seq_len):\n",
        "        super(Transformer, self).__init__()\n",
        "        # Token embedding\n",
        "        self.embedding = layers.Embedding(input_dim=vocab_len, output_dim=embed_size)\n",
        "        # Positional Embedding\n",
        "        self.positional_embedding = layers.Embedding(input_dim=seq_len, output_dim=embed_size)\n",
        "\n",
        "        # Multihead Self Attention\n",
        "        self.selfattn = layers.MultiHeadAttention(num_heads=n_heads, key_dim=embed_size)\n",
        "\n",
        "        # Layer Normalization\n",
        "        self.ln1 = layers.LayerNormalization(epsilon=1e-6)\n",
        "\n",
        "        # Dropout\n",
        "        self.d1 = layers.Dropout(0.2)\n",
        "        self.ln2 = layers.LayerNormalization(epsilon=1e-6)\n",
        "        self.d2 = layers.Dropout(0.2)\n",
        "\n",
        "        # Feed Forward Neural Network\n",
        "        self.ffn = keras.Sequential([layers.Dense(hidden_dim, activation=\"relu\"), layers.Dense(embed_size),])\n",
        "        \n",
        "    def get_embeddings(self, input):\n",
        "        seq_len = tf.shape(input)[-1]\n",
        "        pos = tf.range(start=0, limit=seq_len, delta=1)\n",
        "        pos = self.positional_embedding(pos)\n",
        "        input = self.embedding(input)\n",
        "        return input + pos\n",
        "        \n",
        "    \n",
        "    def call(self, input):\n",
        "\n",
        "        input_embed = self.get_embeddings(input)\n",
        "\n",
        "        # Perform Multihead Self Attention between inputs\n",
        "        attn = self.selfattn(input_embed, input_embed)\n",
        "        attn = self.d1(attn)\n",
        "\n",
        "        # Perform skip connection\n",
        "        out = input_embed + attn\n",
        "\n",
        "        # Perform normalization\n",
        "        out = self.ln1(out)\n",
        "\n",
        "        # Feed Forward Network\n",
        "        output = self.ffn(out)\n",
        "        output = self.d2(output)\n",
        "\n",
        "        # Perform skip connection and normalization\n",
        "        output = self.ln2(out + output)\n",
        "        return output\n"
      ]
    },
    {
      "cell_type": "markdown",
      "metadata": {
        "id": "TIgaXYw8o-_y"
      },
      "source": [
        "# Constants"
      ]
    },
    {
      "cell_type": "code",
      "execution_count": 10,
      "metadata": {
        "id": "pP1_YobOo-X4"
      },
      "outputs": [],
      "source": [
        "# CONSTANTS\n",
        "MAX_SEQUENCE_LENGTH = 100\n",
        "VOCAB_SIZE = 15000\n",
        "EMBEDDING_SIZE = 100\n",
        "FORWARD_DIMS = 100\n",
        "N_HEADS = 2\n",
        "################"
      ]
    },
    {
      "cell_type": "markdown",
      "metadata": {
        "id": "kM-mdSXQo2N6"
      },
      "source": [
        "# Find top 15k words"
      ]
    },
    {
      "cell_type": "code",
      "execution_count": 11,
      "metadata": {
        "id": "jIUJxBtWo179"
      },
      "outputs": [],
      "source": [
        "df_train = pd.DataFrame(train, columns=['class', 'input'])\n",
        "df_val = pd.DataFrame(dev, columns=['class', 'input'])\n",
        "\n",
        "# Identify the most common words\n",
        "x = Counter(\" \".join(df_train[\"input\"]).split()).most_common(VOCAB_SIZE)\n",
        "\n",
        "# Put the words in the list\n",
        "words =[]\n",
        "for i in range(len(x)):\n",
        "  words.append(x[i][0])"
      ]
    },
    {
      "cell_type": "markdown",
      "metadata": {
        "id": "EFaSoxE3wCiR"
      },
      "source": [
        "# Tokenize the Input"
      ]
    },
    {
      "cell_type": "code",
      "execution_count": 12,
      "metadata": {
        "id": "qc2MtE2SpJ_1"
      },
      "outputs": [],
      "source": [
        "# Tokenize the words\n",
        "def tokenizer(x):\n",
        "  x = x.rstrip('\\n\\r').split()\n",
        "  x = [i for i in x if i not in [',', '.', ':', ';', '?','!']]\n",
        "  return x\n",
        "\n",
        "# Replace each token with the token-id\n",
        "def tokenize(x):\n",
        "  tokens = [words.index(w) if w in words else 0 for w in x]\n",
        "  return tokens\n",
        "\n",
        "\n",
        "df_train['input']= df_train['input'].apply(tokenizer)\n",
        "df_train['input'] = df_train['input'].apply(tokenize)\n",
        "\n",
        "# Pad the sequences\n",
        "x_train = sequence.pad_sequences(df_train['input'], MAX_SEQUENCE_LENGTH)\n",
        "y_train = df_train['class']\n",
        "\n",
        "# Do the same for the development data\n",
        "df_val['input'] = df_val['input'].apply(tokenizer)\n",
        "df_val['input'] = df_val['input'].apply(tokenize)\n",
        "\n",
        "x_val = sequence.pad_sequences(df_val['input'], MAX_SEQUENCE_LENGTH)\n",
        "y_val = df_val['class']"
      ]
    },
    {
      "cell_type": "code",
      "execution_count": 13,
      "metadata": {
        "id": "w9XusVAd04zO"
      },
      "outputs": [],
      "source": [
        "ip = layers.Input(shape=(MAX_SEQUENCE_LENGTH,))\n",
        "\n",
        "\n",
        "trans = Transformer(N_HEADS, FORWARD_DIMS, EMBEDDING_SIZE, VOCAB_SIZE, MAX_SEQUENCE_LENGTH)\n",
        "\n",
        "# Transformer\n",
        "input = trans(ip)\n",
        "input = layers.GlobalAveragePooling1D()(input)\n",
        "input = layers.Dropout(0.3)(input)\n",
        "\n",
        "# Fully Connected Layer-1\n",
        "input = layers.Dense(150, activation=\"relu\")(input)\n",
        "input = layers.Dropout(0.3)(input)\n",
        "\n",
        "# Fully Connected Layer-2\n",
        "input = layers.Dense(150, activation=\"relu\")(input)\n",
        "input = layers.Dropout(0.3)(input)\n",
        "\n",
        "# Final Prediction\n",
        "op = layers.Dense(2, activation=\"softmax\")(input)\n",
        "\n",
        "model = keras.Model(inputs=ip, outputs=op)\n",
        "model.compile(optimizer=\"adam\", loss=\"sparse_categorical_crossentropy\", metrics=[\"accuracy\"])"
      ]
    },
    {
      "cell_type": "markdown",
      "metadata": {
        "id": "_4hCU5dX8RPi"
      },
      "source": [
        "# Training"
      ]
    },
    {
      "cell_type": "code",
      "execution_count": 14,
      "metadata": {
        "colab": {
          "base_uri": "https://localhost:8080/"
        },
        "id": "-NVObeFz2g2K",
        "outputId": "ff629914-6bda-45c4-8b13-318df5066dc8"
      },
      "outputs": [
        {
          "name": "stdout",
          "output_type": "stream",
          "text": [
            "Epoch 1/10\n",
            "507/507 [==============================] - 74s 142ms/step - loss: 0.7075 - accuracy: 0.5055 - val_loss: 0.6936 - val_accuracy: 0.4697\n",
            "Epoch 2/10\n",
            "507/507 [==============================] - 72s 141ms/step - loss: 0.6687 - accuracy: 0.5501 - val_loss: 0.5069 - val_accuracy: 0.7588\n",
            "Epoch 3/10\n",
            "507/507 [==============================] - 71s 140ms/step - loss: 0.3927 - accuracy: 0.8372 - val_loss: 0.3662 - val_accuracy: 0.8535\n",
            "Epoch 4/10\n",
            "507/507 [==============================] - 71s 139ms/step - loss: 0.2011 - accuracy: 0.9250 - val_loss: 0.3656 - val_accuracy: 0.8629\n",
            "Epoch 5/10\n",
            "507/507 [==============================] - 71s 140ms/step - loss: 0.1274 - accuracy: 0.9509 - val_loss: 0.4788 - val_accuracy: 0.8619\n",
            "Epoch 6/10\n",
            "507/507 [==============================] - 70s 139ms/step - loss: 0.0890 - accuracy: 0.9611 - val_loss: 0.5311 - val_accuracy: 0.8703\n",
            "Epoch 7/10\n",
            "507/507 [==============================] - 70s 138ms/step - loss: 0.0696 - accuracy: 0.9683 - val_loss: 0.6450 - val_accuracy: 0.8707\n",
            "Epoch 8/10\n",
            "507/507 [==============================] - 70s 138ms/step - loss: 0.0553 - accuracy: 0.9711 - val_loss: 0.6824 - val_accuracy: 0.8673\n",
            "Epoch 9/10\n",
            "507/507 [==============================] - 70s 139ms/step - loss: 0.0526 - accuracy: 0.9721 - val_loss: 0.8943 - val_accuracy: 0.8707\n",
            "Epoch 10/10\n",
            "507/507 [==============================] - 71s 139ms/step - loss: 0.0472 - accuracy: 0.9744 - val_loss: 1.2183 - val_accuracy: 0.8727\n"
          ]
        },
        {
          "data": {
            "text/plain": [
              "<keras.callbacks.History at 0x7f0262512810>"
            ]
          },
          "execution_count": 14,
          "metadata": {},
          "output_type": "execute_result"
        }
      ],
      "source": [
        "model.fit(x_train, y_train, batch_size=32, epochs=10, validation_data = (x_val, y_val))"
      ]
    },
    {
      "cell_type": "markdown",
      "metadata": {
        "id": "xu7JxJ_G8S0Q"
      },
      "source": [
        "# Prediction"
      ]
    },
    {
      "cell_type": "code",
      "execution_count": 15,
      "metadata": {
        "id": "ITE8LN2Xu2WF"
      },
      "outputs": [],
      "source": [
        "# Tokenize test data\n",
        "df_test = pd.DataFrame(test, columns=['input'])\n",
        "df_test['input'] = df_test['input'].apply(tokenizer)\n",
        "df_test['input'] = df_test['input'].apply(tokenize)\n",
        "\n",
        "x_test = sequence.pad_sequences(df_test['input'], MAX_SEQUENCE_LENGTH)"
      ]
    },
    {
      "cell_type": "code",
      "execution_count": 16,
      "metadata": {
        "id": "O8bKqHonzhrU"
      },
      "outputs": [],
      "source": [
        "# Append the predictions in the list\n",
        "results=[]\n",
        "r = model.predict(x_test, batch_size = 32)\n",
        "res = np.argmax(r, axis=1)\n",
        "for i in range(len(res)):\n",
        "  results.append(res[i])"
      ]
    },
    {
      "cell_type": "markdown",
      "metadata": {
        "id": "HT4ysYVjBU2B"
      },
      "source": [
        "### Output Prediction Result File"
      ]
    },
    {
      "cell_type": "markdown",
      "metadata": {
        "id": "G3SyShpoBU2C"
      },
      "source": [
        "You will need to submit a prediction result file. It should have 2028 lines, every line should be either 0 or 1, which is your model's prediction on the respective test set instance."
      ]
    },
    {
      "cell_type": "code",
      "execution_count": 17,
      "metadata": {
        "id": "SG5UmhXZBU2D"
      },
      "outputs": [],
      "source": [
        "# suppose you had your model's predictions on the 2028 test cases read from test_enc_unlabeled.tsv, and \n",
        "#those results are in the list called 'results'\n",
        "assert (len(results) == 2028)"
      ]
    },
    {
      "cell_type": "code",
      "execution_count": 18,
      "metadata": {
        "id": "kWojtxOJBU2D"
      },
      "outputs": [],
      "source": [
        "# make sure the results are not float numbers, but intergers 0 and 1\n",
        "results = [int(x) for x in results]"
      ]
    },
    {
      "cell_type": "code",
      "execution_count": 19,
      "metadata": {
        "id": "_aFif5xjBU2D"
      },
      "outputs": [],
      "source": [
        "# write your prediction results to 'upload_predictions.txt' and upload that later\n",
        "with open('upload_predictions.txt', 'w', encoding = 'utf-8') as fp:\n",
        "    for x in results:\n",
        "        fp.write(str(x) + '\\n')"
      ]
    },
    {
      "cell_type": "code",
      "execution_count": null,
      "metadata": {
        "id": "U0y0xRVNEMbr"
      },
      "outputs": [],
      "source": []
    }
  ],
  "metadata": {
    "colab": {
      "collapsed_sections": [],
      "name": "main.ipynb",
      "provenance": []
    },
    "kernelspec": {
      "display_name": "Python 3",
      "language": "python",
      "name": "python3"
    },
    "language_info": {
      "codemirror_mode": {
        "name": "ipython",
        "version": 3
      },
      "file_extension": ".py",
      "mimetype": "text/x-python",
      "name": "python",
      "nbconvert_exporter": "python",
      "pygments_lexer": "ipython3",
      "version": "3.8.3"
    }
  },
  "nbformat": 4,
  "nbformat_minor": 0
}
